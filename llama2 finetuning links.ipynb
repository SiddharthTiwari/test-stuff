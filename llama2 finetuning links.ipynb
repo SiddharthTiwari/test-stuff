{
 "cells": [
  {
   "cell_type": "markdown",
   "id": "cb9449ad",
   "metadata": {},
   "source": [
    "https://github.com/ray-project/ray/tree/workspace_templates_2.6.1/doc/source/templates/04_finetuning_llms_with_deepspeed"
   ]
  },
  {
   "cell_type": "markdown",
   "id": "bd3eb4d0",
   "metadata": {},
   "source": [
    "https://ukey.co/blog/finetune-llama-2-peft-qlora-huggingface/"
   ]
  },
  {
   "cell_type": "markdown",
   "id": "928844e8",
   "metadata": {},
   "source": [
    "https://medium.com/@ud.chandra/instruction-fine-tuning-llama-2-with-pefts-qlora-method-d6a801ebb19\n",
    "    "
   ]
  },
  {
   "cell_type": "markdown",
   "id": "2f94c27f",
   "metadata": {},
   "source": [
    "https://github.com/ovh/ai-training-examples/blob/main/notebooks/natural-language-processing/llm/miniconda/llama2-fine-tuning/llama_2_finetuning.ipynb"
   ]
  },
  {
   "cell_type": "markdown",
   "id": "8816ab32",
   "metadata": {},
   "source": [
    "https://mlabonne.github.io/blog/posts/Fine_Tune_Your_Own_Llama_2_Model_in_a_Colab_Notebook.html"
   ]
  },
  {
   "cell_type": "markdown",
   "id": "10a5be10",
   "metadata": {},
   "source": [
    "https://colab.research.google.com/drive/1vS5gt9UoDaraJ3Hrsk1V9RbJVdVM6LWJ?usp=sharing"
   ]
  },
  {
   "cell_type": "code",
   "execution_count": null,
   "id": "a0791854",
   "metadata": {},
   "outputs": [],
   "source": []
  }
 ],
 "metadata": {
  "kernelspec": {
   "display_name": "Python 3",
   "language": "python",
   "name": "python3"
  },
  "language_info": {
   "codemirror_mode": {
    "name": "ipython",
    "version": 3
   },
   "file_extension": ".py",
   "mimetype": "text/x-python",
   "name": "python",
   "nbconvert_exporter": "python",
   "pygments_lexer": "ipython3",
   "version": "3.7.16"
  }
 },
 "nbformat": 4,
 "nbformat_minor": 5
}
